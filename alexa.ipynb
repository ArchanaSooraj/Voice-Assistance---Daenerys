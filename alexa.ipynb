{
 "cells": [
  {
   "cell_type": "markdown",
   "id": "793a34e1",
   "metadata": {},
   "source": [
    "##### Subprocess:- module is used to get system subprocess details used in various commands i.e Shutdown, Sleep, etc. This module comes built-in with Python.\n",
    "##### Tkinter:- This module is used for building GUI and comes inbuilt with Python. This module comes built-in with Python.\n",
    "##### Web browser:- To perform Web Search. This module comes built-in with Python. \n",
    "##### Datetime:- Date and Time are used to showing Date and Time. This module comes built-in with Python. \n",
    "##### Requests: Requests is used for making GET and POST requests.\n",
    "##### BeautifulSoup: Beautiful Soup is a library that makes it easy to scrape information from web pages.\n",
    "##### OS : It is possible to automatically perform many operating system tasks. The OS module in Python provides functions for creating and removing a directory (folder), fetching its contents, changing and identifying the current directory, etc.\n",
    "##### SMTP : Simple Mail Transfer Protocol (SMTP) is a protocol, which handles sending e-mail \n",
    "##### JSON is a syntax for storing and exchanging data."
   ]
  },
  {
   "cell_type": "code",
   "execution_count": 10,
   "id": "36f5d999",
   "metadata": {},
   "outputs": [
    {
     "name": "stdout",
     "output_type": "stream",
     "text": [
      "Requirement already satisfied: pyttsx3 in c:\\users\\soora\\anaconda3\\lib\\site-packages (2.90)\n",
      "Requirement already satisfied: pypiwin32 in c:\\users\\soora\\anaconda3\\lib\\site-packages (from pyttsx3) (223)\n",
      "Requirement already satisfied: comtypes in c:\\users\\soora\\anaconda3\\lib\\site-packages (from pyttsx3) (1.1.10)\n",
      "Requirement already satisfied: pywin32 in c:\\users\\soora\\anaconda3\\lib\\site-packages (from pyttsx3) (302)\n",
      "Note: you may need to restart the kernel to use updated packages.\n"
     ]
    }
   ],
   "source": [
    "pip install pyttsx3"
   ]
  },
  {
   "cell_type": "markdown",
   "id": "1cfd38a2",
   "metadata": {},
   "source": [
    "##### pyttsx3 is a text-to-speech conversion library in Python. Unlike alternative libraries, it works offline"
   ]
  },
  {
   "cell_type": "code",
   "execution_count": 11,
   "id": "15e3cfdc",
   "metadata": {},
   "outputs": [
    {
     "name": "stdout",
     "output_type": "stream",
     "text": [
      "Requirement already satisfied: wolframalpha in c:\\users\\soora\\anaconda3\\lib\\site-packages (5.0.0)\n",
      "Requirement already satisfied: xmltodict in c:\\users\\soora\\anaconda3\\lib\\site-packages (from wolframalpha) (0.13.0)\n",
      "Requirement already satisfied: jaraco.context in c:\\users\\soora\\anaconda3\\lib\\site-packages (from wolframalpha) (4.3.0)\n",
      "Requirement already satisfied: more-itertools in c:\\users\\soora\\anaconda3\\lib\\site-packages (from wolframalpha) (9.1.0)\n"
     ]
    }
   ],
   "source": [
    "!pip3 install wolframalpha"
   ]
  },
  {
   "cell_type": "markdown",
   "id": "22f1971e",
   "metadata": {},
   "source": [
    "##### Wolfram Alpha is an API which can compute expert-level answers using Wolfram's algorithms, knowledgebase and AI technology"
   ]
  },
  {
   "cell_type": "code",
   "execution_count": 12,
   "id": "d3871258",
   "metadata": {},
   "outputs": [
    {
     "name": "stdout",
     "output_type": "stream",
     "text": [
      "Requirement already satisfied: ecapture in c:\\users\\soora\\anaconda3\\lib\\site-packages (2.0.2)\n",
      "Requirement already satisfied: opencv-python in c:\\users\\soora\\anaconda3\\lib\\site-packages (from ecapture) (4.7.0.68)\n",
      "Requirement already satisfied: numpy>=1.17.3 in c:\\users\\soora\\anaconda3\\lib\\site-packages (from opencv-python->ecapture) (1.21.5)\n"
     ]
    }
   ],
   "source": [
    "!pip3 install ecapture"
   ]
  },
  {
   "cell_type": "markdown",
   "id": "2a9d6198",
   "metadata": {},
   "source": [
    "##### Ecapture:- To capture images from your Camera. "
   ]
  },
  {
   "cell_type": "code",
   "execution_count": 13,
   "id": "fc317c48",
   "metadata": {},
   "outputs": [
    {
     "name": "stdout",
     "output_type": "stream",
     "text": [
      "Requirement already satisfied: twilio in c:\\users\\soora\\anaconda3\\lib\\site-packages (7.16.5)\n",
      "Requirement already satisfied: PyJWT<3.0.0,>=2.0.0 in c:\\users\\soora\\anaconda3\\lib\\site-packages (from twilio) (2.1.0)\n",
      "Requirement already satisfied: requests>=2.0.0 in c:\\users\\soora\\anaconda3\\lib\\site-packages (from twilio) (2.27.1)\n",
      "Requirement already satisfied: pytz in c:\\users\\soora\\anaconda3\\lib\\site-packages (from twilio) (2021.3)\n",
      "Requirement already satisfied: certifi>=2017.4.17 in c:\\users\\soora\\anaconda3\\lib\\site-packages (from requests>=2.0.0->twilio) (2021.10.8)\n",
      "Requirement already satisfied: idna<4,>=2.5 in c:\\users\\soora\\anaconda3\\lib\\site-packages (from requests>=2.0.0->twilio) (3.3)\n",
      "Requirement already satisfied: urllib3<1.27,>=1.21.1 in c:\\users\\soora\\anaconda3\\lib\\site-packages (from requests>=2.0.0->twilio) (1.26.9)\n",
      "Requirement already satisfied: charset-normalizer~=2.0.0 in c:\\users\\soora\\anaconda3\\lib\\site-packages (from requests>=2.0.0->twilio) (2.0.4)\n"
     ]
    }
   ],
   "source": [
    "!pip3 install twilio"
   ]
  },
  {
   "cell_type": "markdown",
   "id": "b4dafb41",
   "metadata": {},
   "source": [
    "##### Twilio:- Twilio is used for making calls and messages."
   ]
  },
  {
   "cell_type": "code",
   "execution_count": 37,
   "id": "83c5d68f",
   "metadata": {},
   "outputs": [
    {
     "name": "stdout",
     "output_type": "stream",
     "text": [
      "Requirement already satisfied: SpeechRecognition in c:\\users\\soora\\anaconda3\\lib\\site-packages (3.9.0)\n",
      "Requirement already satisfied: requests>=2.26.0 in c:\\users\\soora\\anaconda3\\lib\\site-packages (from SpeechRecognition) (2.27.1)\n",
      "Requirement already satisfied: charset-normalizer~=2.0.0 in c:\\users\\soora\\anaconda3\\lib\\site-packages (from requests>=2.26.0->SpeechRecognition) (2.0.4)\n",
      "Requirement already satisfied: certifi>=2017.4.17 in c:\\users\\soora\\anaconda3\\lib\\site-packages (from requests>=2.26.0->SpeechRecognition) (2021.10.8)\n",
      "Requirement already satisfied: idna<4,>=2.5 in c:\\users\\soora\\anaconda3\\lib\\site-packages (from requests>=2.26.0->SpeechRecognition) (3.3)\n",
      "Requirement already satisfied: urllib3<1.27,>=1.21.1 in c:\\users\\soora\\anaconda3\\lib\\site-packages (from requests>=2.26.0->SpeechRecognition) (1.26.9)\n"
     ]
    }
   ],
   "source": [
    "!pip3 install SpeechRecognition"
   ]
  },
  {
   "cell_type": "markdown",
   "id": "238ba73a",
   "metadata": {},
   "source": [
    "##### Speech Recognition:- Since we’re building an Application of voice assistant, one of the most important things in this is that your assistant recognizes your voice (means what you want to say/ ask). "
   ]
  },
  {
   "cell_type": "code",
   "execution_count": 14,
   "id": "4bf06b81",
   "metadata": {},
   "outputs": [
    {
     "name": "stdout",
     "output_type": "stream",
     "text": [
      "Requirement already satisfied: pywhatkit in c:\\users\\soora\\anaconda3\\lib\\site-packages (5.4)\n",
      "Requirement already satisfied: Flask in c:\\users\\soora\\anaconda3\\lib\\site-packages (from pywhatkit) (1.1.2)\n",
      "Requirement already satisfied: requests in c:\\users\\soora\\anaconda3\\lib\\site-packages (from pywhatkit) (2.27.1)\n",
      "Requirement already satisfied: wikipedia in c:\\users\\soora\\anaconda3\\lib\\site-packages (from pywhatkit) (1.4.0)\n",
      "Requirement already satisfied: Pillow in c:\\users\\soora\\anaconda3\\lib\\site-packages (from pywhatkit) (9.0.1)\n",
      "Requirement already satisfied: pyautogui in c:\\users\\soora\\anaconda3\\lib\\site-packages (from pywhatkit) (0.9.53)\n",
      "Requirement already satisfied: click>=5.1 in c:\\users\\soora\\anaconda3\\lib\\site-packages (from Flask->pywhatkit) (8.0.4)\n",
      "Requirement already satisfied: itsdangerous>=0.24 in c:\\users\\soora\\anaconda3\\lib\\site-packages (from Flask->pywhatkit) (2.0.1)\n",
      "Requirement already satisfied: Jinja2>=2.10.1 in c:\\users\\soora\\anaconda3\\lib\\site-packages (from Flask->pywhatkit) (2.11.3)\n",
      "Requirement already satisfied: Werkzeug>=0.15 in c:\\users\\soora\\anaconda3\\lib\\site-packages (from Flask->pywhatkit) (2.0.3)\n",
      "Requirement already satisfied: pygetwindow>=0.0.5 in c:\\users\\soora\\anaconda3\\lib\\site-packages (from pyautogui->pywhatkit) (0.0.9)\n",
      "Requirement already satisfied: pymsgbox in c:\\users\\soora\\anaconda3\\lib\\site-packages (from pyautogui->pywhatkit) (1.0.9)\n",
      "Requirement already satisfied: pyscreeze>=0.1.21 in c:\\users\\soora\\anaconda3\\lib\\site-packages (from pyautogui->pywhatkit) (0.1.28)\n",
      "Requirement already satisfied: PyTweening>=1.0.1 in c:\\users\\soora\\anaconda3\\lib\\site-packages (from pyautogui->pywhatkit) (1.0.4)\n",
      "Requirement already satisfied: mouseinfo in c:\\users\\soora\\anaconda3\\lib\\site-packages (from pyautogui->pywhatkit) (0.1.3)\n",
      "Requirement already satisfied: certifi>=2017.4.17 in c:\\users\\soora\\anaconda3\\lib\\site-packages (from requests->pywhatkit) (2021.10.8)\n",
      "Requirement already satisfied: urllib3<1.27,>=1.21.1 in c:\\users\\soora\\anaconda3\\lib\\site-packages (from requests->pywhatkit) (1.26.9)\n",
      "Requirement already satisfied: idna<4,>=2.5 in c:\\users\\soora\\anaconda3\\lib\\site-packages (from requests->pywhatkit) (3.3)\n",
      "Requirement already satisfied: charset-normalizer~=2.0.0 in c:\\users\\soora\\anaconda3\\lib\\site-packages (from requests->pywhatkit) (2.0.4)\n",
      "Requirement already satisfied: beautifulsoup4 in c:\\users\\soora\\anaconda3\\lib\\site-packages (from wikipedia->pywhatkit) (4.11.1)\n",
      "Requirement already satisfied: colorama in c:\\users\\soora\\anaconda3\\lib\\site-packages (from click>=5.1->Flask->pywhatkit) (0.4.4)\n",
      "Requirement already satisfied: MarkupSafe>=0.23 in c:\\users\\soora\\anaconda3\\lib\\site-packages (from Jinja2>=2.10.1->Flask->pywhatkit) (2.0.1)\n",
      "Requirement already satisfied: pyrect in c:\\users\\soora\\anaconda3\\lib\\site-packages (from pygetwindow>=0.0.5->pyautogui->pywhatkit) (0.2.0)\n",
      "Requirement already satisfied: soupsieve>1.2 in c:\\users\\soora\\anaconda3\\lib\\site-packages (from beautifulsoup4->wikipedia->pywhatkit) (2.3.1)\n",
      "Requirement already satisfied: pyperclip in c:\\users\\soora\\anaconda3\\lib\\site-packages (from mouseinfo->pyautogui->pywhatkit) (1.8.2)\n"
     ]
    }
   ],
   "source": [
    "!pip3 install pywhatkit"
   ]
  },
  {
   "cell_type": "markdown",
   "id": "ab043930",
   "metadata": {},
   "source": [
    "##### pywhatkit is a Python library for sending WhatsApp messages at a certain time, it has several other features too.\n",
    "\n",
    "Following are some features of pywhatkit module:\n",
    "\n",
    "Send WhatsApp messages.\n",
    "Play a YouTube video.\n",
    "Perform a Google Search.\n",
    "Get information on a particular topic."
   ]
  },
  {
   "cell_type": "code",
   "execution_count": 15,
   "id": "f9dd529c",
   "metadata": {},
   "outputs": [
    {
     "name": "stdout",
     "output_type": "stream",
     "text": [
      "Requirement already satisfied: wikipedia in c:\\users\\soora\\anaconda3\\lib\\site-packages (1.4.0)\n",
      "Requirement already satisfied: requests<3.0.0,>=2.0.0 in c:\\users\\soora\\anaconda3\\lib\\site-packages (from wikipedia) (2.27.1)\n",
      "Requirement already satisfied: beautifulsoup4 in c:\\users\\soora\\anaconda3\\lib\\site-packages (from wikipedia) (4.11.1)\n",
      "Requirement already satisfied: urllib3<1.27,>=1.21.1 in c:\\users\\soora\\anaconda3\\lib\\site-packages (from requests<3.0.0,>=2.0.0->wikipedia) (1.26.9)\n",
      "Requirement already satisfied: certifi>=2017.4.17 in c:\\users\\soora\\anaconda3\\lib\\site-packages (from requests<3.0.0,>=2.0.0->wikipedia) (2021.10.8)\n",
      "Requirement already satisfied: idna<4,>=2.5 in c:\\users\\soora\\anaconda3\\lib\\site-packages (from requests<3.0.0,>=2.0.0->wikipedia) (3.3)\n",
      "Requirement already satisfied: charset-normalizer~=2.0.0 in c:\\users\\soora\\anaconda3\\lib\\site-packages (from requests<3.0.0,>=2.0.0->wikipedia) (2.0.4)\n",
      "Requirement already satisfied: soupsieve>1.2 in c:\\users\\soora\\anaconda3\\lib\\site-packages (from beautifulsoup4->wikipedia) (2.3.1)\n"
     ]
    }
   ],
   "source": [
    "!pip3 install wikipedia"
   ]
  },
  {
   "cell_type": "markdown",
   "id": "b70458e4",
   "metadata": {},
   "source": [
    "##### Wikipedia:- As we all know Wikipedia is a great source of knowledge just like GeeksforGeeks we have used the Wikipedia module to get information from Wikipedia or to perform a Wikipedia search. To install this module type the below command in the terminal."
   ]
  },
  {
   "cell_type": "code",
   "execution_count": 16,
   "id": "6b9b8fcf",
   "metadata": {},
   "outputs": [
    {
     "name": "stdout",
     "output_type": "stream",
     "text": [
      "Requirement already satisfied: pyjokes in c:\\users\\soora\\anaconda3\\lib\\site-packages (0.6.0)\n"
     ]
    }
   ],
   "source": [
    "!pip3 install pyjokes"
   ]
  },
  {
   "cell_type": "markdown",
   "id": "11107796",
   "metadata": {},
   "source": [
    "##### Pyjokes:- Pyjokes is used for the collection of Python Jokes over the Internet."
   ]
  },
  {
   "cell_type": "code",
   "execution_count": 17,
   "id": "bb7748ef",
   "metadata": {},
   "outputs": [
    {
     "name": "stdout",
     "output_type": "stream",
     "text": [
      "Requirement already satisfied: winshell in c:\\users\\soora\\anaconda3\\lib\\site-packages (0.6)\n",
      "Note: you may need to restart the kernel to use updated packages.\n"
     ]
    }
   ],
   "source": [
    "pip install winshell"
   ]
  },
  {
   "cell_type": "markdown",
   "id": "37ac5365",
   "metadata": {},
   "source": [
    "##### The winshell module is a light wrapper around the Windows shell functionality. It includes convenience functions for accessing special folders, for using the shell's file copy, rename & delete functionality,"
   ]
  },
  {
   "cell_type": "code",
   "execution_count": 19,
   "id": "fd66e2d3",
   "metadata": {},
   "outputs": [
    {
     "name": "stdout",
     "output_type": "stream",
     "text": [
      "Requirement already satisfied: feedparser in c:\\users\\soora\\anaconda3\\lib\\site-packages (6.0.10)\n",
      "Requirement already satisfied: sgmllib3k in c:\\users\\soora\\anaconda3\\lib\\site-packages (from feedparser) (1.0.0)\n",
      "Note: you may need to restart the kernel to use updated packages.\n"
     ]
    }
   ],
   "source": [
    "pip install feedparser"
   ]
  },
  {
   "cell_type": "markdown",
   "id": "86f463fe",
   "metadata": {},
   "source": [
    "##### RSS (Rich Site Summary) is a format for delivering regularly changing web content. Many news-related sites, weblogs and other online publishers syndicate their content as an RSS Feed to whoever wants it. In python we take help of the below package to read and process these feeds."
   ]
  },
  {
   "cell_type": "code",
   "execution_count": 20,
   "id": "c5f75f22",
   "metadata": {},
   "outputs": [
    {
     "name": "stdout",
     "output_type": "stream",
     "text": [
      "Requirement already satisfied: clients in c:\\users\\soora\\anaconda3\\lib\\site-packages (1.4)\n",
      "Requirement already satisfied: httpx>=0.23 in c:\\users\\soora\\anaconda3\\lib\\site-packages (from clients) (0.23.3)\n",
      "Requirement already satisfied: httpcore<0.17.0,>=0.15.0 in c:\\users\\soora\\anaconda3\\lib\\site-packages (from httpx>=0.23->clients) (0.16.3)\n",
      "Requirement already satisfied: sniffio in c:\\users\\soora\\anaconda3\\lib\\site-packages (from httpx>=0.23->clients) (1.2.0)\n",
      "Requirement already satisfied: rfc3986[idna2008]<2,>=1.3 in c:\\users\\soora\\anaconda3\\lib\\site-packages (from httpx>=0.23->clients) (1.5.0)\n",
      "Requirement already satisfied: certifi in c:\\users\\soora\\anaconda3\\lib\\site-packages (from httpx>=0.23->clients) (2021.10.8)\n",
      "Requirement already satisfied: anyio<5.0,>=3.0 in c:\\users\\soora\\anaconda3\\lib\\site-packages (from httpcore<0.17.0,>=0.15.0->httpx>=0.23->clients) (3.5.0)\n",
      "Requirement already satisfied: h11<0.15,>=0.13 in c:\\users\\soora\\anaconda3\\lib\\site-packages (from httpcore<0.17.0,>=0.15.0->httpx>=0.23->clients) (0.14.0)\n",
      "Requirement already satisfied: idna in c:\\users\\soora\\anaconda3\\lib\\site-packages (from rfc3986[idna2008]<2,>=1.3->httpx>=0.23->clients) (3.3)\n",
      "Note: you may need to restart the kernel to use updated packages.\n"
     ]
    }
   ],
   "source": [
    "pip install clients"
   ]
  },
  {
   "cell_type": "code",
   "execution_count": 21,
   "id": "df1ce0ad",
   "metadata": {},
   "outputs": [
    {
     "name": "stdout",
     "output_type": "stream",
     "text": [
      "Requirement already satisfied: clint in c:\\users\\soora\\anaconda3\\lib\\site-packages (0.5.1)\n",
      "Requirement already satisfied: args in c:\\users\\soora\\anaconda3\\lib\\site-packages (from clint) (0.1.0)\n",
      "Note: you may need to restart the kernel to use updated packages.\n"
     ]
    }
   ],
   "source": [
    "pip install clint"
   ]
  },
  {
   "cell_type": "code",
   "execution_count": 35,
   "id": "0dd5365a",
   "metadata": {},
   "outputs": [],
   "source": [
    "import speech_recognition as sr\n",
    "import pyttsx3\n",
    "import pywhatkit\n",
    "import datetime\n",
    "import wikipedia\n",
    "import webbrowser\n",
    "import pyjokes\n",
    "import subprocess\n",
    "import random\n",
    "import operator\n",
    "import os\n",
    "import winshell\n",
    "import tkinter\n",
    "import ctypes\n",
    "import requests\n",
    "import json\n",
    "import feedparser\n",
    "import smtplib\n",
    "import shutil\n",
    "import sys\n",
    "import wolframalpha\n",
    "from twilio.rest import Client\n",
    "from clint.textui import progress\n",
    "from ecapture import ecapture as ec\n",
    "from bs4 import BeautifulSoup\n",
    "import win32com.client as wincl\n",
    "from urllib.request import urlopen"
   ]
  },
  {
   "cell_type": "code",
   "execution_count": 36,
   "id": "aef9eaa0",
   "metadata": {},
   "outputs": [],
   "source": [
    "listener = sr.Recognizer()\n",
    "engine = pyttsx3.init('sapi5')\n",
    "voices = engine.getProperty('voices')\n",
    "engine.setProperty('voice', voices[1].id)"
   ]
  },
  {
   "cell_type": "markdown",
   "id": "4fb1e3d2",
   "metadata": {},
   "source": [
    "##### You can change the voice Id to “0” for the Male voice while using assistant here we are using a Female voice for all text to speech"
   ]
  },
  {
   "cell_type": "code",
   "execution_count": 37,
   "id": "a7835066",
   "metadata": {},
   "outputs": [],
   "source": [
    "def speak(audio):\n",
    "    engine.say(audio)\n",
    "    engine.runAndWait()\n",
    "\n",
    "def wishMe():\n",
    "    hour = int(datetime.datetime.now().hour)\n",
    "    if hour>= 0 and hour<12:\n",
    "        speak(\"Good Morning Sir !\")\n",
    "  \n",
    "    elif hour>= 12 and hour<18:\n",
    "        speak(\"Good Afternoon Madam !\")  \n",
    "  \n",
    "    else:\n",
    "        speak(\"Good Evening Madam !\") \n",
    "  \n",
    "    assname =(\"Daenerys\")\n",
    "    speak(\"I am your Assistant\")\n",
    "    speak(assname)\n",
    "     \n",
    "def username():\n",
    "    speak(\"What should i call you Madam\")\n",
    "    uname = takeCommand()\n",
    "    speak(\"Welcome Mister\")\n",
    "    speak(uname)\n",
    "    columns = shutil.get_terminal_size().columns\n",
    "     \n",
    "    print(\"#####################\".center(columns))\n",
    "    print(\"Welcome Mr.\", uname.center(columns))\n",
    "    print(\"#####################\".center(columns))\n",
    "     \n",
    "    speak(\"How can i Help you, Mam \")\n",
    "    \n",
    "def takeCommand():  \n",
    "    r = sr.Recognizer()\n",
    "     \n",
    "    with sr.Microphone() as source:\n",
    "         \n",
    "        print(\"Listening...\")\n",
    "        r.pause_threshold = 1\n",
    "        audio = r.listen(source)\n",
    "    try:\n",
    "        print(\"Recognizing...\")   \n",
    "        query = r.recognize_google(audio, language ='en-in')\n",
    "        print(f\"User said: {query}\\n\")\n",
    "  \n",
    "    except Exception as e:\n",
    "        print(e)   \n",
    "        print(\"Unable to Recognize your voice.\") \n",
    "        return \"None\"\n",
    "     \n",
    "    return query\n",
    "  \n",
    "def sendEmail(to, content):\n",
    "    server = smtplib.SMTP('smtp.gmail.com', 587)\n",
    "    server.ehlo()\n",
    "    server.starttls()\n",
    "     \n",
    "    # Enable low security in gmail\n",
    "    server.login('your email id', 'your email password')\n",
    "    server.sendmail('your email id', to, content)\n",
    "    server.close()\n"
   ]
  },
  {
   "cell_type": "code",
   "execution_count": null,
   "id": "1d82779c",
   "metadata": {},
   "outputs": [],
   "source": [
    "if __name__ == '__main__':\n",
    "    clear = lambda: os.system('cls')\n",
    "     \n",
    "    clear()\n",
    "    wishMe()\n",
    "    username()\n",
    "     \n",
    "    while True:\n",
    "         \n",
    "        query = takeCommand().lower()\n",
    "         \n",
    "       \n",
    "        if \"wikipedia\" in query:\n",
    "            webbrowser.open(\"https://www.wikipedia.org/\")\n",
    " \n",
    "        elif 'open youtube' in query:\n",
    "            speak(\"Here you go to youtube\\n\")\n",
    "            webbrowser.open(\"youtube.com\")\n",
    "            \n",
    "        elif 'open google' in query:\n",
    "            speak('Here you go to Google\\n')\n",
    "            webbrowser.open(\"google.com\")\n",
    "            \n",
    "        elif 'open Facebook' in query:\n",
    "            speak(\"Here you go to Facebook\\n\")\n",
    "            webbrowser.open(\"https://www.facebook.com/\")\n",
    " \n",
    "        elif 'open stackoverflow' in query:\n",
    "            speak(\"Here you go to Stack Over flow.Happy coding\")\n",
    "            webbrowser.open(\"stackoverflow.com\")  \n",
    " \n",
    "        elif 'play' in query:\n",
    "            song = query.replace('play', '')\n",
    "            print('Playing' +song)\n",
    "            speak('Playing' +song)\n",
    "            pywhatkit.playonyt(song) \n",
    " \n",
    "        elif 'the time' in query:\n",
    "            strTime = datetime.datetime.now().strftime(\"% H:% M:% S\")   \n",
    "            speak(f\"Sir, the time is {strTime}\")\n",
    "\n",
    " \n",
    "        elif 'email' in query:\n",
    "            try:\n",
    "                speak(\"What should I say?\")\n",
    "                content = takeCommand()\n",
    "                to = \"Receiver email address\"   \n",
    "                sendEmail(to, content)\n",
    "                speak(\"Email has been sent !\")\n",
    "            except Exception as e:\n",
    "                print(e)\n",
    "                speak(\"I am not able to send this email\")\n",
    " \n",
    "        elif 'send a mail' in query:\n",
    "            try:\n",
    "                speak(\"What should I say?\")\n",
    "                content = takeCommand()\n",
    "                speak(\"whome should i send\")\n",
    "                to = input()   \n",
    "                sendEmail(to, content)\n",
    "                speak(\"Email has been sent !\")\n",
    "            except Exception as e:\n",
    "                print(e)\n",
    "                speak(\"I am not able to send this email\")\n",
    " \n",
    "        elif 'how are you' in query:\n",
    "            speak(\"I am fine, Thank you\")\n",
    "            speak(\"How are you, Madam\")\n",
    " \n",
    "        elif 'fine' in query or \"good\" in query:\n",
    "            speak(\"It's good to know that your fine\")\n",
    " \n",
    "        elif \"change my name to\" in query:\n",
    "            query = query.replace(\"change my name to\", \"\")\n",
    "            assname = query\n",
    " \n",
    "        elif \"change name\" in query:\n",
    "            speak(\"What would you like to call me, Sir \")\n",
    "            assname = takeCommand()\n",
    "            speak(\"Thanks for naming me\")\n",
    " \n",
    "        elif \"what's your name\" in query or \"What is your name\" in query:\n",
    "            speak(\"My friends call me\")\n",
    "            speak(assname)\n",
    "            print(\"My friends call me\", assname)\n",
    " \n",
    "        elif 'exit' in query:\n",
    "            speak(\"Thanks for giving me your time\")\n",
    "            exit()\n",
    " \n",
    "        elif \"who made you\" in query or \"who created you\" in query:\n",
    "            speak(\"I have been created by Archana and Alphonsa.\")\n",
    "             \n",
    "        elif 'joke' in query:\n",
    "            speak(pyjokes.get_joke())\n",
    "             \n",
    "        elif \"calculate\" in query:\n",
    "             \n",
    "            app_id = \"Wolframalpha api id\"\n",
    "            client = wolframalpha.Client(app_id)\n",
    "            indx   = query.lower().split().index('calculate')\n",
    "            query  = query.split()[indx + 1:]\n",
    "            res    = client.query(' '.join(query))\n",
    "            answer = next(res.results).text\n",
    "            print(\"The answer is \" + answer)\n",
    "            speak(\"The answer is \" + answer)\n",
    " \n",
    "        elif 'search' in query or 'play' in query:\n",
    "             \n",
    "            query = query.replace(\"search\", \"\")\n",
    "            query = query.replace(\"play\", \"\")         \n",
    "            webbrowser.open(query)\n",
    " \n",
    "        elif \"who i am\" in query:\n",
    "            speak(\"If you talk then definitely your human.\")\n",
    " \n",
    "        elif \"why you came to world\" in query:\n",
    "            speak(\"Thanks to Alphonsa and Archana. further It's a secret\")\n",
    " \n",
    "        elif 'power point presentation' in query:\n",
    "            speak(\"opening Power Point presentation\")\n",
    "            power = r\"C:\\Users\\soora\\Downloads\\python notes\\ML (3).pptx\"\n",
    "            os.startfile(power)\n",
    " \n",
    "        elif 'is love' in query:\n",
    "            speak(\"It is 7th sense that destroy all other senses\")\n",
    " \n",
    "        elif \"who are you\" in query:\n",
    "            speak(\"I am your virtual assistant created by Archana and Alphonsa\")\n",
    " \n",
    "        elif 'reason for you' in query:\n",
    "            speak(\"I was created as a Minor project by Mrs Archana and Ms Archana \")\n",
    " \n",
    "        elif 'change background' in query:\n",
    "            ctypes.windll.user32.SystemParametersInfoW(20,0,\"Location of wallpaper\",0)\n",
    "            speak(\"Background changed successfully\")\n",
    "\n",
    " \n",
    "        elif 'news' in query:\n",
    "             \n",
    "            try:\n",
    "                jsonObj = urlopen('''https://newsapi.org / v1 / articles?source = the-times-of-india&sortBy = top&apiKey =\\\\times of India Api key\\\\''')\n",
    "                data = json.load(jsonObj)\n",
    "                i = 1\n",
    "                 \n",
    "                speak('here are some top news from the times of india')\n",
    "                print('''=============== TIMES OF INDIA ============'''+ '\\n')\n",
    "                 \n",
    "                for item in data['articles']:\n",
    "                     \n",
    "                    print(str(i) + '. ' + item['title'] + '\\n')\n",
    "                    print(item['description'] + '\\n')\n",
    "                    speak(str(i) + '. ' + item['title'] + '\\n')\n",
    "                    i += 1\n",
    "            except Exception as e:\n",
    "                 \n",
    "                print(str(e))\n",
    " \n",
    "         \n",
    "        elif 'lock window' in query:\n",
    "                speak(\"locking the device\")\n",
    "                ctypes.windll.user32.LockWorkStation()\n",
    " \n",
    "        elif 'shutdown system' in query:\n",
    "                speak(\"Hold On a Sec ! Your system is on its way to shut down\")\n",
    "                subprocess.call('shutdown / p /f')\n",
    "                 \n",
    "        elif 'empty recycle bin' in query:\n",
    "            winshell.recycle_bin().empty(confirm = False, show_progress = False, sound = True)\n",
    "            speak(\"Recycle Bin Recycled\")\n",
    " \n",
    "        elif \"don't listen\" in query or \"stop listening\" in query:\n",
    "            speak(\"for how much time you want to stop Daenerys from listening commands\")\n",
    "            a = int(takeCommand())\n",
    "            time.sleep(a)\n",
    "            print(a)\n",
    " \n",
    "        elif \"where is\" in query:\n",
    "            query = query.replace(\"where is\", \"\")\n",
    "            location = query\n",
    "            speak(\"User asked to Locate\")\n",
    "            speak(location)\n",
    "            webbrowser.open(\"https://www.google.nl / maps / place/\" + location + \"\")\n",
    " \n",
    "        elif \"camera\" in query or \"take a photo\" in query:\n",
    "            ec.capture(0, \"Daenerys Camera \", \"img.jpg\")\n",
    " \n",
    "        elif \"restart\" in query:\n",
    "            subprocess.call([\"shutdown\", \"/r\"])\n",
    "             \n",
    "        elif \"hibernate\" in query or \"sleep\" in query:\n",
    "            speak(\"Hibernating\")\n",
    "            subprocess.call(\"shutdown / h\")\n",
    " \n",
    "        elif \"log off\" in query or \"sign out\" in query:\n",
    "            speak(\"Make sure all the application are closed before sign-out\")\n",
    "            time.sleep(5)\n",
    "            subprocess.call([\"shutdown\", \"/l\"])\n",
    " \n",
    "        elif \"write a note\" in query:\n",
    "            speak(\"What should i write, sir\")\n",
    "            note = takeCommand()\n",
    "            file = open('note.txt', 'w')\n",
    "            speak(\"Sir, Should i include date and time\")\n",
    "            snfm = takeCommand()\n",
    "            if 'yes' in snfm or 'sure' in snfm:\n",
    "                strTime = datetime.datetime.now().strftime(\"% H:% M:% S\")\n",
    "                file.write(strTime)\n",
    "                file.write(\" :- \")\n",
    "                file.write(note)\n",
    "            else:\n",
    "                file.write(note)\n",
    "         \n",
    "        elif \"show note\" in query:\n",
    "            speak(\"Showing Notes\")\n",
    "            file = open(\"note.txt\", \"r\")\n",
    "            print(file.read())\n",
    "            speak(file.read(6))\n",
    " \n",
    "        elif \"update assistant\" in query:\n",
    "            speak(\"After downloading file please replace this file with the downloaded one\")\n",
    "            url = '# url after uploading file'\n",
    "            r = requests.get(url, stream = True)\n",
    "             \n",
    "            with open(\"Voice.py\", \"wb\") as Pypdf:\n",
    "                 \n",
    "                total_length = int(r.headers.get('content-length'))\n",
    "                 \n",
    "                for ch in progress.bar(r.iter_content(chunk_size = 2391975),\n",
    "                                       expected_size =(total_length / 1024) + 1):\n",
    "                    if ch:\n",
    "                        Pypdf.write(ch)\n",
    "                     \n",
    "\n",
    "        elif \"Daeneries\" in query:\n",
    "             \n",
    "            wishMe()\n",
    "            speak(\"Daeneries point o in your service Mister\")\n",
    "            speak(assname)\n",
    " \n",
    "        elif \"weather\" in query:\n",
    "\n",
    "            api_key = \"Api key\"\n",
    "            base_url = \"http://api.openweathermap.org / data / 2.5 / weather?\"\n",
    "            speak(\" City name \")\n",
    "            print(\"City name : \")\n",
    "            city_name = takeCommand()\n",
    "            complete_url = base_url + \"appid =\" + api_key + \"&q =\" + city_name\n",
    "            response = requests.get(complete_url)\n",
    "            x = response.json()\n",
    "             \n",
    "            if x[\"code\"] != \"404\":\n",
    "                y = x[\"main\"]\n",
    "                current_temperature = y[\"temp\"]\n",
    "                current_pressure = y[\"pressure\"]\n",
    "                current_humidiy = y[\"humidity\"]\n",
    "                z = x[\"weather\"]\n",
    "                weather_description = z[0][\"description\"]\n",
    "                print(\" Temperature (in kelvin unit) = \" +str(current_temperature)+\"\\n atmospheric pressure (in hPa unit) =\"+str(current_pressure) +\"\\n humidity (in percentage) = \" +str(current_humidiy) +\"\\n description = \" +str(weather_description))\n",
    "             \n",
    "            else:\n",
    "                speak(\" City Not Found \")\n",
    "             \n",
    "        elif \"send message \" in query:\n",
    "                account_sid = 'Account Sid key'\n",
    "                auth_token = 'Auth token'\n",
    "                client = Client(account_sid, auth_token)\n",
    " \n",
    "                message = client.messages \\\n",
    "                                .create(\n",
    "                                    body = takeCommand(),\n",
    "                                    from_='Sender No',\n",
    "                                    to ='Receiver No'\n",
    "                                )\n",
    " \n",
    "                print(message.sid)\n",
    " \n",
    "       \n",
    " \n",
    "        elif \"Good Morning\" in query:\n",
    "            speak(\"A warm\" +query)\n",
    "            speak(\"How are you Mister\")\n",
    "            speak(assname)\n",
    " \n",
    "        elif \"will you be my gf\" in query or \"will you be my bf\" in query:  \n",
    "            speak(\"I'm not sure about, may be you should give me some time\")\n",
    " \n",
    "        elif \"how are you\" in query:\n",
    "            speak(\"I'm fine, glad you me that\")\n",
    " \n",
    "        elif \"i love you\" in query:\n",
    "            speak(\"It's hard to understand\")\n",
    " \n",
    "        elif \"what is\" in query or \"who is\" in query:\n",
    "  \n",
    "            client = wolframalpha.Client(\"API_ID\")\n",
    "            res = client.query(query)\n",
    "             \n",
    "            try:\n",
    "                print (next(res.results).text)\n",
    "                speak (next(res.results).text)\n",
    "            except StopIteration:\n",
    "                print (\"No results\")\n",
    "        elif 'stop' in query:\n",
    "            print('good bye, have a nice day !!')\n",
    "            speak('good bye, have a nice day !!')\n",
    "            sys.exit()"
   ]
  },
  {
   "cell_type": "code",
   "execution_count": null,
   "id": "0395c487",
   "metadata": {},
   "outputs": [],
   "source": []
  },
  {
   "cell_type": "code",
   "execution_count": null,
   "id": "9cfe4b1d",
   "metadata": {},
   "outputs": [],
   "source": []
  }
 ],
 "metadata": {
  "kernelspec": {
   "display_name": "Python 3 (ipykernel)",
   "language": "python",
   "name": "python3"
  },
  "language_info": {
   "codemirror_mode": {
    "name": "ipython",
    "version": 3
   },
   "file_extension": ".py",
   "mimetype": "text/x-python",
   "name": "python",
   "nbconvert_exporter": "python",
   "pygments_lexer": "ipython3",
   "version": "3.9.12"
  }
 },
 "nbformat": 4,
 "nbformat_minor": 5
}
